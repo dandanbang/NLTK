{
 "cells": [
  {
   "cell_type": "markdown",
   "metadata": {},
   "source": [
    "#Practice with Language Modeling#"
   ]
  },
  {
   "cell_type": "code",
   "execution_count": 1,
   "metadata": {
    "collapsed": true
   },
   "outputs": [],
   "source": [
    "import nltk\n",
    "from collections import Counter\n",
    "from pprint import pprint"
   ]
  },
  {
   "cell_type": "markdown",
   "metadata": {},
   "source": [
    "##The Chain Rule From Probability Theory##\n",
    "\n",
    "\n",
    "$P(w_{1} w_{2} ... w_{n}) = \\prod_{i=1} P(w_{i} | w_{1} w_{2} ... w{i-1})$\n",
    "\n",
    "```\n",
    "P(its water is so transparent) = \n",
    "P(its) × P(water|its) × P(is|its water) × P(so|its water is) × P(transparent|its water is so)\n",
    "```\n",
    "\n",
    "Let's assume the conditional probabilities shown in the code below."
   ]
  },
  {
   "cell_type": "code",
   "execution_count": 2,
   "metadata": {
    "collapsed": true
   },
   "outputs": [],
   "source": [
    "its = .05\n",
    "water_given_its = .01\n",
    "is_given_its_water = .001\n",
    "so_given_its_water_is = .0008\n",
    "transparent_given_its_water_is_so = .00000001"
   ]
  },
  {
   "cell_type": "markdown",
   "metadata": {},
   "source": [
    "Using the chain rule, you just multiply the probabilities to get the final probability of the full sentence."
   ]
  },
  {
   "cell_type": "code",
   "execution_count": 3,
   "metadata": {
    "collapsed": false
   },
   "outputs": [
    {
     "name": "stdout",
     "output_type": "stream",
     "text": [
      "P(its water is so transparent) = 4e-18\n"
     ]
    }
   ],
   "source": [
    "p = its * water_given_its * is_given_its_water * so_given_its_water_is * transparent_given_its_water_is_so\n",
    "\n",
    "print(\"P(its water is so transparent) = {}\".format(p))"
   ]
  },
  {
   "cell_type": "markdown",
   "metadata": {},
   "source": [
    "## The Maximum Likelihood Estimate ##\n",
    "\n",
    "$P(w_{i}|w_{i-1}) = \\dfrac{count(w_{i-1}, w_{i})}{count(w_{i-1})}$"
   ]
  },
  {
   "cell_type": "code",
   "execution_count": 4,
   "metadata": {
    "collapsed": false
   },
   "outputs": [
    {
     "name": "stdout",
     "output_type": "stream",
     "text": [
      "{('<s>', 'I'): 2,\n",
      " ('<s>', 'Sam'): 1,\n",
      " ('I', 'am'): 2,\n",
      " ('I', 'do'): 1,\n",
      " ('Sam', '</s>'): 1,\n",
      " ('Sam', 'I'): 1,\n",
      " ('am', '</s>'): 1,\n",
      " ('am', 'Sam'): 1,\n",
      " ('and', 'ham'): 1,\n",
      " ('do', 'not'): 1,\n",
      " ('eggs', 'and'): 1,\n",
      " ('green', 'eggs'): 1,\n",
      " ('ham', '</s>'): 1,\n",
      " ('like', 'green'): 1,\n",
      " ('not', 'like'): 1}\n"
     ]
    }
   ],
   "source": [
    "# pre-tokenized sentences\n",
    "sents = [[\"<s>\", \"I\", \"am\", \"Sam\", \"</s>\"],\n",
    "         [\"<s>\", \"Sam\" , \"I\", \"am\", \"</s>\"],\n",
    "         [\"<s>\", \"I\", \"do\", \"not\", \"like\", \"green\", \"eggs\",\"and\", \"ham\", \"</s>\"]]\n",
    "        \n",
    "# return bigram counts for all sentences\n",
    "bigram = [list(nltk.bigrams(s)) for s in sents]\n",
    "flat_bigram = [x for row in bigram for x in row]\n",
    "numerator = Counter(flat_bigram)\n",
    "pprint(numerator)"
   ]
  },
  {
   "cell_type": "code",
   "execution_count": 5,
   "metadata": {
    "collapsed": false
   },
   "outputs": [
    {
     "data": {
      "text/plain": [
       "{'<s>', 'I', 'Sam', 'am', 'and', 'do', 'eggs', 'green', 'ham', 'like', 'not'}"
      ]
     },
     "execution_count": 5,
     "metadata": {},
     "output_type": "execute_result"
    }
   ],
   "source": [
    "# return all words that occur first in each bigram\n",
    "words = set([x for (x, y) in numerator])\n",
    "words"
   ]
  },
  {
   "cell_type": "code",
   "execution_count": 6,
   "metadata": {
    "collapsed": false
   },
   "outputs": [],
   "source": [
    "def denominator_counts(words, sents):\n",
    "    '''\n",
    "    calculate number of sentences that contain the first word\n",
    "    '''\n",
    "    denominator = {}\n",
    "    for w in words:\n",
    "        x = 0\n",
    "        for s in sents:\n",
    "            if w in s:\n",
    "                x += 1\n",
    "        denominator[w] = x\n",
    "    return denominator"
   ]
  },
  {
   "cell_type": "code",
   "execution_count": 7,
   "metadata": {
    "collapsed": false
   },
   "outputs": [
    {
     "data": {
      "text/plain": [
       "{'<s>': 3,\n",
       " 'I': 3,\n",
       " 'Sam': 2,\n",
       " 'am': 2,\n",
       " 'and': 1,\n",
       " 'do': 1,\n",
       " 'eggs': 1,\n",
       " 'green': 1,\n",
       " 'ham': 1,\n",
       " 'like': 1,\n",
       " 'not': 1}"
      ]
     },
     "execution_count": 7,
     "metadata": {},
     "output_type": "execute_result"
    }
   ],
   "source": [
    "denominator = denominator_counts(words, sents)\n",
    "denominator"
   ]
  },
  {
   "cell_type": "code",
   "execution_count": 8,
   "metadata": {
    "collapsed": false
   },
   "outputs": [],
   "source": [
    "# add the denominator data to calculate the maximum likelihood estimate\n",
    "MLE = numerator\n",
    "\n",
    "for n in MLE.items():\n",
    "    MLE[n[0]] /= denominator[n[0][0]]"
   ]
  },
  {
   "cell_type": "code",
   "execution_count": 9,
   "metadata": {
    "collapsed": false
   },
   "outputs": [
    {
     "name": "stdout",
     "output_type": "stream",
     "text": [
      "{('<s>', 'I'): 0.6666666666666666,\n",
      " ('<s>', 'Sam'): 0.3333333333333333,\n",
      " ('I', 'am'): 0.6666666666666666,\n",
      " ('I', 'do'): 0.3333333333333333,\n",
      " ('Sam', '</s>'): 0.5,\n",
      " ('Sam', 'I'): 0.5,\n",
      " ('am', '</s>'): 0.5,\n",
      " ('am', 'Sam'): 0.5,\n",
      " ('and', 'ham'): 1.0,\n",
      " ('do', 'not'): 1.0,\n",
      " ('eggs', 'and'): 1.0,\n",
      " ('green', 'eggs'): 1.0,\n",
      " ('ham', '</s>'): 1.0,\n",
      " ('like', 'green'): 1.0,\n",
      " ('not', 'like'): 1.0}\n"
     ]
    }
   ],
   "source": [
    "pprint(MLE)"
   ]
  }
 ],
 "metadata": {
  "kernelspec": {
   "display_name": "Python 3",
   "language": "python",
   "name": "python3"
  },
  "language_info": {
   "codemirror_mode": {
    "name": "ipython",
    "version": 3
   },
   "file_extension": ".py",
   "mimetype": "text/x-python",
   "name": "python",
   "nbconvert_exporter": "python",
   "pygments_lexer": "ipython3",
   "version": "3.3.5"
  }
 },
 "nbformat": 4,
 "nbformat_minor": 0
}
